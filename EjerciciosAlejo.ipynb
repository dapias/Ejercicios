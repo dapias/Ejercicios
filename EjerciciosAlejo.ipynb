{
 "cells": [
  {
   "cell_type": "markdown",
   "metadata": {},
   "source": [
    "# Ejercicios para interactuar con el lenguaje Julia y el jupyter notebook"
   ]
  },
  {
   "cell_type": "markdown",
   "metadata": {},
   "source": [
    "Empieza por instalar el jupyter notebook. "
   ]
  },
  {
   "cell_type": "markdown",
   "metadata": {},
   "source": [
    "### Instrucciones"
   ]
  },
  {
   "cell_type": "markdown",
   "metadata": {},
   "source": [
    "Para instalar el Jupyter notebook básicamente necesitas descargar e instalar [Anaconda](https://docs.continuum.io/anaconda/) que es una distribución de Python y sus librerías relevantes para el cómputo científico. Para la descarga ve a esta [liga](https://docs.continuum.io/anaconda/install)\n",
    "\n",
    "Ambas versiones de Python (2.7 o 3.5) son aceptables para nuestros intereses; en particular recomiendo 2.7.\n",
    "\n",
    "Una vez hayas instalado Anaconda abre el REPL de Julia y agrega el paquete IJulia, el cual permite la interacción con el Jupyter Notebook. Para esto en el REPL escribe las siguientes lineas\n",
    "```\n",
    "julia> Pkg.add(\"IJulia\")\n",
    "julia> using IJulia\n",
    "julia> notebook()\n",
    "```\n",
    "Si todo sale bien, ¡felicidades!, ya puedes usar el Jupyter notebook.\n",
    "Para futuras ocasiones solo necesitas escribir las últimas dos líneas, o bien abrir una terminal y escribir jupyter notebook"
   ]
  },
  {
   "cell_type": "markdown",
   "metadata": {},
   "source": [
    "Ahora vamos a editar este notebook. Para esto descarga el directorio  que contiene este archivo desde github. En la terminal muévete a este directorio y ejecuta el jupyter vamos a editar este notebook. Para esto descarga ebook para editar este notebook,"
   ]
  },
  {
   "cell_type": "code",
   "execution_count": null,
   "metadata": {
    "collapsed": true
   },
   "outputs": [],
   "source": []
  }
 ],
 "metadata": {
  "kernelspec": {
   "display_name": "Julia 0.4.6-pre",
   "language": "julia",
   "name": "julia-0.4"
  },
  "language_info": {
   "file_extension": ".jl",
   "mimetype": "application/julia",
   "name": "julia",
   "version": "0.4.6"
  }
 },
 "nbformat": 4,
 "nbformat_minor": 0
}
