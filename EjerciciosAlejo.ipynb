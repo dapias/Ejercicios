{
 "cells": [
  {
   "cell_type": "markdown",
   "metadata": {},
   "source": [
    "# Ejercicios para interactuar con el lenguaje Julia y el jupyter notebook"
   ]
  },
  {
   "cell_type": "markdown",
   "metadata": {},
   "source": [
    "## Jupyter notebook (Descripción)\n"
   ]
  },
  {
   "cell_type": "markdown",
   "metadata": {},
   "source": [
    "*Jupyter notebook* (acrónimo para **Julia - Python - R**) es una aplicación web diseñada para cómputo interactivo. \n",
    "Ésta permite crear y compartir documentos que contienen código, ecuaciones, visualizaciones y texto.\n",
    "Jupyter notebook permite escribir texto en lenguaje markdown, ecuaciones en lenguaje $\\LaTeX$ y correr y ejecutar código escrito en por lo menos 40 lenguajes de programación (como **C++, PHP, C#, Ruby** y por supuesto **Julia**)."
   ]
  },
  {
   "cell_type": "markdown",
   "metadata": {},
   "source": [
    "### Instrucciones de instalación (Ejercicio 1)"
   ]
  },
  {
   "cell_type": "markdown",
   "metadata": {},
   "source": [
    "Para instalar el Jupyter notebook básicamente necesitas descargar e instalar [Anaconda](https://docs.continuum.io/anaconda/) que es una distribución de Python y sus librerías relevantes para el cómputo científico. Para la descarga ve a esta [liga](https://docs.continuum.io/anaconda/install)\n",
    "\n",
    "Ambas versiones de Python (2.7 o 3.5) son aceptables para nuestros intereses; en particular recomiendo 2.7.\n",
    "\n",
    "Una vez hayas instalado Anaconda abre el REPL de Julia y agrega el paquete IJulia, el cual permite la interacción con el Jupyter Notebook. Para esto en el REPL escribe las siguientes lineas\n",
    "```\n",
    "julia> Pkg.add(\"IJulia\")\n",
    "julia> using IJulia\n",
    "julia> notebook()\n",
    "```\n",
    "Si todo sale bien, ¡felicidades!, ya puedes usar el Jupyter notebook.\n",
    "Para futuras ocasiones solo necesitas escribir las últimas dos líneas, o bien abrir una terminal y escribir jupyter notebook"
   ]
  },
  {
   "cell_type": "markdown",
   "metadata": {},
   "source": [
    "Ahora vamos a editar este notebook. Para esto descarga el directorio  que contiene este archivo desde github (en esta [dirección](https://github.com/dapias/Ejercicios)). En la terminal muévete al directorio descargado y teclea el comando `jupyter notebook`; así podrás editar este archivo. "
   ]
  },
  {
   "cell_type": "markdown",
   "metadata": {},
   "source": [
    "## Interactuando con el notebook (Ejercicio 2)"
   ]
  },
  {
   "cell_type": "markdown",
   "metadata": {},
   "source": [
    "#### Comandos Principales para usar una celda"
   ]
  },
  {
   "cell_type": "markdown",
   "metadata": {},
   "source": [
    "Los comandos principales para el uso del notebook los encuentras en la pestaña *Help - Keyboard Shortcuts* en la parte superior del notebook. Básicamente están precedidos por la tecla **ESC**. \n",
    "Ejemplos:\n",
    "* ESC m # Formato markdown\n",
    "* ESC b # Crea una celda debajo de la actual\n",
    "* ESC a # Crea una celda arriba de la actual\n",
    "* ESC d d # Elimina la celda actual \n",
    "\n",
    "Otros comandos importantes que no usan ESC\n",
    "* Shift-Enter #Ejecuta la celda actual\n",
    "* Alt-Enter #Ejecuta las celdas seleccionadas"
   ]
  },
  {
   "cell_type": "markdown",
   "metadata": {},
   "source": [
    "Escribe texto formateado en la celda de abajo usando [markdown](https://en.wikipedia.org/wiki/Markdown). Los principales comandos son:\n",
    "```\n",
    "# para títulos\n",
    "## para subtítulos\n",
    "* para generar un ítem\n",
    "TAB * genera un subítem\n",
    "*texto* genera  texto en cursiva\n",
    "**texto** genera texto en negrita\n",
    "Sintaxis para tablas:\n",
    "| Columna 1| Columna 2|\n",
    "|----------| ----------|\n",
    "| Manzanas | 15|\n",
    "|Peras | 20 |\n",
    "[páginaweb](link a la pagina)\n",
    "`codigo en medio de texto`\n",
    "![nombreimagen](URL imagen)\n",
    "![nombreimagen](direcciónalaimagen)\n",
    "```"
   ]
  },
  {
   "cell_type": "code",
   "execution_count": null,
   "metadata": {
    "collapsed": true
   },
   "outputs": [],
   "source": []
  },
  {
   "cell_type": "markdown",
   "metadata": {
    "collapsed": true
   },
   "source": [
    "## Método de Newton (Ejercicio 3)"
   ]
  },
  {
   "cell_type": "markdown",
   "metadata": {},
   "source": [
    "Construye una función que encuentre alguna de las raíces del polinomio $$x^3 - 2x^2 - 11x + 12$$ usando el método de Newton. Recuerda que el método de Newton tiene el siguiente [algoritmo](https://en.wikipedia.org/wiki/Newton%27s_method):\n",
    "\n",
    "- Define un número $\\epsilon$ como la tolerancia que le pides al estimado final de la raíz\n",
    "- Define un número de pasos máximo en el que el algoritmo buscará la raíz: $nsteps$\n",
    "- Da un valor inicial (*ansatz*) a la raíz: $x_0$.\n",
    "- Evalua $f(x_0)$\n",
    "- Si $\\mid f(x_0) - 0.0\\mid > \\epsilon$ entonces:\n",
    "    - $x_1 =  x_0 - \\frac{f(x_0)}{f'(x_0)}$\n",
    "    - Evalua $f(x_1)$\n",
    "    - Si $\\mid f(x_1) - 0.0\\mid > \\epsilon$ entonces:\n",
    "        - $x_2 =  x_1 - \\frac{f(x_1)}{f'(x_1)}$\n",
    "        - Evalua $f(x_2)$\n",
    "        - ...\n",
    "        - Itera hasta que la condición sea satisfecha y regresa el valor de $x_n$\n",
    "- Si $\\mid f(x_{nsteps}) - 0.0\\mid > \\epsilon$ imprime el mensaje:\n",
    "`No se encontró una raíz para el ansatz dado`"
   ]
  },
  {
   "cell_type": "markdown",
   "metadata": {},
   "source": [
    "Puedes crear la función del polinomio así:"
   ]
  },
  {
   "cell_type": "code",
   "execution_count": 4,
   "metadata": {
    "collapsed": false
   },
   "outputs": [
    {
     "data": {
      "text/plain": [
       "polinomio (generic function with 1 method)"
      ]
     },
     "execution_count": 4,
     "metadata": {},
     "output_type": "execute_result"
    }
   ],
   "source": [
    "function polinomio(x)\n",
    "    x^3 - 2.*x^2 - 11.x + 12\n",
    "end"
   ]
  },
  {
   "cell_type": "markdown",
   "metadata": {},
   "source": [
    "Se recomienda crear la función derivada de igual manera."
   ]
  },
  {
   "cell_type": "markdown",
   "metadata": {},
   "source": [
    "Y la función para el binomio de Newton más o menos debe verse así"
   ]
  },
  {
   "cell_type": "code",
   "execution_count": null,
   "metadata": {
    "collapsed": true
   },
   "outputs": [],
   "source": [
    "function newton(x0, epsilon, nsteps)\n",
    "    f = polinomio(x0)\n",
    "    if condicion para f\n",
    "        calcular x nueva\n",
    "    else\n",
    "        return x0\n",
    "    end\n",
    "    \n",
    "    for i in 1:nsteps-1\n",
    "        ...\n",
    "    end\n",
    "    \n",
    "    println(\"\")\n",
    "    \n",
    "end\n",
    "\n",
    "    \n",
    "    "
   ]
  }
 ],
 "metadata": {
  "kernelspec": {
   "display_name": "Julia 0.4.6-pre",
   "language": "julia",
   "name": "julia-0.4"
  },
  "language_info": {
   "file_extension": ".jl",
   "mimetype": "application/julia",
   "name": "julia",
   "version": "0.4.6"
  }
 },
 "nbformat": 4,
 "nbformat_minor": 0
}
